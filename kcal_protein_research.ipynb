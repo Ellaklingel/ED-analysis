{
 "cells": [
  {
   "cell_type": "code",
   "execution_count": 20,
   "id": "4db53296-8e6b-4da5-943c-5570594e1c40",
   "metadata": {},
   "outputs": [],
   "source": [
    "import pandas as pd\n",
    "import numpy as np\n",
    "import matplotlib.pyplot as plt\n",
    "from sklearn.cluster import KMeans\n",
    "kcal_protein=pd.read_csv(\"kcal_protein.csv\")\n"
   ]
  },
  {
   "cell_type": "code",
   "execution_count": 21,
   "id": "913d2479-e911-4bbe-ad71-d699df572170",
   "metadata": {},
   "outputs": [
    {
     "data": {
      "text/html": [
       "<div>\n",
       "<style scoped>\n",
       "    .dataframe tbody tr th:only-of-type {\n",
       "        vertical-align: middle;\n",
       "    }\n",
       "\n",
       "    .dataframe tbody tr th {\n",
       "        vertical-align: top;\n",
       "    }\n",
       "\n",
       "    .dataframe thead th {\n",
       "        text-align: right;\n",
       "    }\n",
       "</style>\n",
       "<table border=\"1\" class=\"dataframe\">\n",
       "  <thead>\n",
       "    <tr style=\"text-align: right;\">\n",
       "      <th></th>\n",
       "      <th>patient_id</th>\n",
       "      <th>kcal_day0</th>\n",
       "      <th>protein_day0</th>\n",
       "      <th>kcal_day1</th>\n",
       "      <th>protein_day1</th>\n",
       "      <th>kcal_day2</th>\n",
       "      <th>protein_day2</th>\n",
       "      <th>kcal_day3</th>\n",
       "      <th>protein_day3</th>\n",
       "      <th>kcal_day4</th>\n",
       "      <th>protein_day4</th>\n",
       "      <th>kcal_day5</th>\n",
       "      <th>protein_day5</th>\n",
       "      <th>kcal_day6</th>\n",
       "      <th>protein_day6</th>\n",
       "      <th>kcal_day7</th>\n",
       "      <th>protein_day7</th>\n",
       "    </tr>\n",
       "  </thead>\n",
       "  <tbody>\n",
       "    <tr>\n",
       "      <th>0</th>\n",
       "      <td>9A4D778B26BA</td>\n",
       "      <td>635.580000</td>\n",
       "      <td>33.858000</td>\n",
       "      <td>1540.800000</td>\n",
       "      <td>82.080000</td>\n",
       "      <td>1540.800000</td>\n",
       "      <td>82.080000</td>\n",
       "      <td>1540.800000</td>\n",
       "      <td>82.080000</td>\n",
       "      <td>1540.800000</td>\n",
       "      <td>82.080000</td>\n",
       "      <td>1878.55</td>\n",
       "      <td>88.891</td>\n",
       "      <td>1526.40</td>\n",
       "      <td>57.6</td>\n",
       "      <td>1526.40000</td>\n",
       "      <td>57.600000</td>\n",
       "    </tr>\n",
       "    <tr>\n",
       "      <th>1</th>\n",
       "      <td>243B4074C224</td>\n",
       "      <td>983.200008</td>\n",
       "      <td>65.546667</td>\n",
       "      <td>1253.600016</td>\n",
       "      <td>83.573334</td>\n",
       "      <td>1620.000000</td>\n",
       "      <td>108.000000</td>\n",
       "      <td>1021.200036</td>\n",
       "      <td>68.080002</td>\n",
       "      <td>1431.000000</td>\n",
       "      <td>95.400000</td>\n",
       "      <td>1440.00</td>\n",
       "      <td>96.000</td>\n",
       "      <td>1440.00</td>\n",
       "      <td>96.0</td>\n",
       "      <td>1440.00000</td>\n",
       "      <td>96.000000</td>\n",
       "    </tr>\n",
       "    <tr>\n",
       "      <th>2</th>\n",
       "      <td>DDA2574ABCEF</td>\n",
       "      <td>1209.600024</td>\n",
       "      <td>80.640002</td>\n",
       "      <td>0.000000</td>\n",
       "      <td>0.000000</td>\n",
       "      <td>1359.710689</td>\n",
       "      <td>66.328712</td>\n",
       "      <td>1878.261696</td>\n",
       "      <td>125.217446</td>\n",
       "      <td>643.043760</td>\n",
       "      <td>42.869584</td>\n",
       "      <td>0.00</td>\n",
       "      <td>0.000</td>\n",
       "      <td>0.00</td>\n",
       "      <td>0.0</td>\n",
       "      <td>0.00000</td>\n",
       "      <td>0.000000</td>\n",
       "    </tr>\n",
       "    <tr>\n",
       "      <th>3</th>\n",
       "      <td>B0CEDB9413F3</td>\n",
       "      <td>1261.400000</td>\n",
       "      <td>47.600000</td>\n",
       "      <td>337.080000</td>\n",
       "      <td>12.720000</td>\n",
       "      <td>36.746660</td>\n",
       "      <td>1.386666</td>\n",
       "      <td>0.000000</td>\n",
       "      <td>0.000000</td>\n",
       "      <td>0.000000</td>\n",
       "      <td>0.000000</td>\n",
       "      <td>0.00</td>\n",
       "      <td>0.000</td>\n",
       "      <td>0.00</td>\n",
       "      <td>0.0</td>\n",
       "      <td>0.00000</td>\n",
       "      <td>0.000000</td>\n",
       "    </tr>\n",
       "    <tr>\n",
       "      <th>4</th>\n",
       "      <td>3A6D5B90097D</td>\n",
       "      <td>1114.186815</td>\n",
       "      <td>40.269895</td>\n",
       "      <td>1946.950636</td>\n",
       "      <td>96.729665</td>\n",
       "      <td>1896.193822</td>\n",
       "      <td>100.402857</td>\n",
       "      <td>1970.866173</td>\n",
       "      <td>76.641677</td>\n",
       "      <td>432.479894</td>\n",
       "      <td>16.319996</td>\n",
       "      <td>0.00</td>\n",
       "      <td>0.000</td>\n",
       "      <td>1290.02</td>\n",
       "      <td>58.3</td>\n",
       "      <td>134.97333</td>\n",
       "      <td>5.653333</td>\n",
       "    </tr>\n",
       "  </tbody>\n",
       "</table>\n",
       "</div>"
      ],
      "text/plain": [
       "     patient_id    kcal_day0  protein_day0    kcal_day1  protein_day1  \\\n",
       "0  9A4D778B26BA   635.580000     33.858000  1540.800000     82.080000   \n",
       "1  243B4074C224   983.200008     65.546667  1253.600016     83.573334   \n",
       "2  DDA2574ABCEF  1209.600024     80.640002     0.000000      0.000000   \n",
       "3  B0CEDB9413F3  1261.400000     47.600000   337.080000     12.720000   \n",
       "4  3A6D5B90097D  1114.186815     40.269895  1946.950636     96.729665   \n",
       "\n",
       "     kcal_day2  protein_day2    kcal_day3  protein_day3    kcal_day4  \\\n",
       "0  1540.800000     82.080000  1540.800000     82.080000  1540.800000   \n",
       "1  1620.000000    108.000000  1021.200036     68.080002  1431.000000   \n",
       "2  1359.710689     66.328712  1878.261696    125.217446   643.043760   \n",
       "3    36.746660      1.386666     0.000000      0.000000     0.000000   \n",
       "4  1896.193822    100.402857  1970.866173     76.641677   432.479894   \n",
       "\n",
       "   protein_day4  kcal_day5  protein_day5  kcal_day6  protein_day6   kcal_day7  \\\n",
       "0     82.080000    1878.55        88.891    1526.40          57.6  1526.40000   \n",
       "1     95.400000    1440.00        96.000    1440.00          96.0  1440.00000   \n",
       "2     42.869584       0.00         0.000       0.00           0.0     0.00000   \n",
       "3      0.000000       0.00         0.000       0.00           0.0     0.00000   \n",
       "4     16.319996       0.00         0.000    1290.02          58.3   134.97333   \n",
       "\n",
       "   protein_day7  \n",
       "0     57.600000  \n",
       "1     96.000000  \n",
       "2      0.000000  \n",
       "3      0.000000  \n",
       "4      5.653333  "
      ]
     },
     "execution_count": 21,
     "metadata": {},
     "output_type": "execute_result"
    }
   ],
   "source": [
    "kcal_protein.head()"
   ]
  },
  {
   "cell_type": "code",
   "execution_count": 22,
   "id": "ee99b97b",
   "metadata": {},
   "outputs": [
    {
     "data": {
      "text/plain": [
       "(2627, 17)"
      ]
     },
     "execution_count": 22,
     "metadata": {},
     "output_type": "execute_result"
    }
   ],
   "source": [
    "kcal_protein.shape"
   ]
  },
  {
   "cell_type": "markdown",
   "id": "98f752ff-1731-47ce-b631-b4de892e4ee3",
   "metadata": {},
   "source": [
    "מיחקי את כל השורות המכילות ערך ריק "
   ]
  },
  {
   "cell_type": "code",
   "execution_count": 23,
   "id": "d65e1358-cf59-41e9-99a0-a4a336dddd26",
   "metadata": {},
   "outputs": [
    {
     "data": {
      "text/plain": [
       "(2625, 17)"
      ]
     },
     "execution_count": 23,
     "metadata": {},
     "output_type": "execute_result"
    }
   ],
   "source": [
    "kcal_protein=kcal_protein.dropna()\n",
    "kcal_protein.shape"
   ]
  },
  {
   "cell_type": "code",
   "execution_count": 24,
   "id": "5d6433da",
   "metadata": {},
   "outputs": [
    {
     "name": "stdout",
     "output_type": "stream",
     "text": [
      "<class 'pandas.core.frame.DataFrame'>\n",
      "Int64Index: 2625 entries, 0 to 2626\n",
      "Data columns (total 17 columns):\n",
      " #   Column        Non-Null Count  Dtype  \n",
      "---  ------        --------------  -----  \n",
      " 0   patient_id    2625 non-null   object \n",
      " 1   kcal_day0     2625 non-null   float64\n",
      " 2   protein_day0  2625 non-null   float64\n",
      " 3   kcal_day1     2625 non-null   float64\n",
      " 4   protein_day1  2625 non-null   float64\n",
      " 5   kcal_day2     2625 non-null   float64\n",
      " 6   protein_day2  2625 non-null   float64\n",
      " 7   kcal_day3     2625 non-null   float64\n",
      " 8   protein_day3  2625 non-null   float64\n",
      " 9   kcal_day4     2625 non-null   float64\n",
      " 10  protein_day4  2625 non-null   float64\n",
      " 11  kcal_day5     2625 non-null   float64\n",
      " 12  protein_day5  2625 non-null   float64\n",
      " 13  kcal_day6     2625 non-null   float64\n",
      " 14  protein_day6  2625 non-null   float64\n",
      " 15  kcal_day7     2625 non-null   float64\n",
      " 16  protein_day7  2625 non-null   float64\n",
      "dtypes: float64(16), object(1)\n",
      "memory usage: 369.1+ KB\n"
     ]
    }
   ],
   "source": [
    "kcal_protein.info()"
   ]
  },
  {
   "cell_type": "markdown",
   "id": "1472c454-7ef2-4bd4-bb38-6934abb4159c",
   "metadata": {},
   "source": [
    "חברי את הטבלה הקיימת עם הטבלה החדשה שנמצאת ב:"
   ]
  },
  {
   "cell_type": "markdown",
   "id": "eecc1585-7de2-4754-9a48-f171c034d2b1",
   "metadata": {},
   "source": [
    "Downloads/ellaCource/Demo_metabolic.xlsx"
   ]
  },
  {
   "cell_type": "code",
   "execution_count": 54,
   "id": "b18aae08-dfad-4b3e-9039-0e01361d3a9a",
   "metadata": {},
   "outputs": [],
   "source": [
    "Demo_metabolic=pd.read_excel('Demo_metabolic.xlsx').iloc[:,[0,1,2]]\n"
   ]
  },
  {
   "cell_type": "code",
   "execution_count": 55,
   "id": "312b969b-1b0d-4990-ab05-a913957676ff",
   "metadata": {},
   "outputs": [
    {
     "data": {
      "text/html": [
       "<div>\n",
       "<style scoped>\n",
       "    .dataframe tbody tr th:only-of-type {\n",
       "        vertical-align: middle;\n",
       "    }\n",
       "\n",
       "    .dataframe tbody tr th {\n",
       "        vertical-align: top;\n",
       "    }\n",
       "\n",
       "    .dataframe thead th {\n",
       "        text-align: right;\n",
       "    }\n",
       "</style>\n",
       "<table border=\"1\" class=\"dataframe\">\n",
       "  <thead>\n",
       "    <tr style=\"text-align: right;\">\n",
       "      <th></th>\n",
       "      <th>patient_id</th>\n",
       "      <th>Weight_adm</th>\n",
       "      <th>Height</th>\n",
       "    </tr>\n",
       "  </thead>\n",
       "  <tbody>\n",
       "    <tr>\n",
       "      <th>0</th>\n",
       "      <td>9A4D778B26BA</td>\n",
       "      <td>120.0</td>\n",
       "      <td>2.00</td>\n",
       "    </tr>\n",
       "    <tr>\n",
       "      <th>1</th>\n",
       "      <td>243B4074C224</td>\n",
       "      <td>65.0</td>\n",
       "      <td>1.65</td>\n",
       "    </tr>\n",
       "    <tr>\n",
       "      <th>2</th>\n",
       "      <td>DDA2574ABCEF</td>\n",
       "      <td>101.0</td>\n",
       "      <td>1.75</td>\n",
       "    </tr>\n",
       "    <tr>\n",
       "      <th>3</th>\n",
       "      <td>B0CEDB9413F3</td>\n",
       "      <td>85.0</td>\n",
       "      <td>1.65</td>\n",
       "    </tr>\n",
       "    <tr>\n",
       "      <th>4</th>\n",
       "      <td>3A6D5B90097D</td>\n",
       "      <td>70.0</td>\n",
       "      <td>1.75</td>\n",
       "    </tr>\n",
       "  </tbody>\n",
       "</table>\n",
       "</div>"
      ],
      "text/plain": [
       "     patient_id  Weight_adm  Height\n",
       "0  9A4D778B26BA       120.0    2.00\n",
       "1  243B4074C224        65.0    1.65\n",
       "2  DDA2574ABCEF       101.0    1.75\n",
       "3  B0CEDB9413F3        85.0    1.65\n",
       "4  3A6D5B90097D        70.0    1.75"
      ]
     },
     "execution_count": 55,
     "metadata": {},
     "output_type": "execute_result"
    }
   ],
   "source": [
    "Demo_metabolic.head()"
   ]
  },
  {
   "cell_type": "code",
   "execution_count": 56,
   "id": "f1a11179-b109-4ccb-8ff4-393ce99166dc",
   "metadata": {},
   "outputs": [],
   "source": [
    "data_merged=pd.merge(kcal_protein, Demo_metabolic, on = \"patient_id\")\n"
   ]
  },
  {
   "cell_type": "markdown",
   "id": "9d007b9c-f38e-4587-9bfb-7246a96b7c25",
   "metadata": {},
   "source": [
    "ציירי גרף שמתאר  את התפלגות  משקל המטופלים "
   ]
  },
  {
   "cell_type": "code",
   "execution_count": 57,
   "id": "2e2fbf46-6f3f-4ecb-a38b-65724aee1eb9",
   "metadata": {},
   "outputs": [
    {
     "data": {
      "text/plain": [
       "<AxesSubplot:>"
      ]
     },
     "execution_count": 57,
     "metadata": {},
     "output_type": "execute_result"
    },
    {
     "data": {
      "image/png": "[encoded data removed]",
      "text/plain": [
       "<Figure size 432x288 with 1 Axes>"
      ]
     },
     "metadata": {
      "needs_background": "light"
     },
     "output_type": "display_data"
    }
   ],
   "source": [
    "data_merged['Weight_adm'].hist()\n"
   ]
  },
  {
   "cell_type": "markdown",
   "id": "47d8e668-876e-447c-bed5-f5ec24aea495",
   "metadata": {},
   "source": [
    "יצרי עמודה חדשה של"
   ]
  },
  {
   "cell_type": "markdown",
   "id": "6337239d-2086-4300-a733-95d906b35388",
   "metadata": {},
   "source": [
    "BMI=wight/hight"
   ]
  },
  {
   "cell_type": "code",
   "execution_count": 58,
   "id": "0b8d8d05-24fd-4afe-bf70-4be4504174a4",
   "metadata": {},
   "outputs": [],
   "source": [
    "data_merged['BMI']=data_merged['Weight_adm']/data_merged['Height']"
   ]
  },
  {
   "cell_type": "code",
   "execution_count": 59,
   "id": "1f6b2076-a6e1-49a4-9ae0-4d1efb2efe18",
   "metadata": {},
   "outputs": [
    {
     "data": {
      "text/html": [
       "<div>\n",
       "<style scoped>\n",
       "    .dataframe tbody tr th:only-of-type {\n",
       "        vertical-align: middle;\n",
       "    }\n",
       "\n",
       "    .dataframe tbody tr th {\n",
       "        vertical-align: top;\n",
       "    }\n",
       "\n",
       "    .dataframe thead th {\n",
       "        text-align: right;\n",
       "    }\n",
       "</style>\n",
       "<table border=\"1\" class=\"dataframe\">\n",
       "  <thead>\n",
       "    <tr style=\"text-align: right;\">\n",
       "      <th></th>\n",
       "      <th>patient_id</th>\n",
       "      <th>kcal_day0</th>\n",
       "      <th>protein_day0</th>\n",
       "      <th>kcal_day1</th>\n",
       "      <th>protein_day1</th>\n",
       "      <th>kcal_day2</th>\n",
       "      <th>protein_day2</th>\n",
       "      <th>kcal_day3</th>\n",
       "      <th>protein_day3</th>\n",
       "      <th>kcal_day4</th>\n",
       "      <th>protein_day4</th>\n",
       "      <th>kcal_day5</th>\n",
       "      <th>protein_day5</th>\n",
       "      <th>kcal_day6</th>\n",
       "      <th>protein_day6</th>\n",
       "      <th>kcal_day7</th>\n",
       "      <th>protein_day7</th>\n",
       "      <th>Weight_adm</th>\n",
       "      <th>Height</th>\n",
       "      <th>BMI</th>\n",
       "    </tr>\n",
       "  </thead>\n",
       "  <tbody>\n",
       "    <tr>\n",
       "      <th>0</th>\n",
       "      <td>9A4D778B26BA</td>\n",
       "      <td>635.580000</td>\n",
       "      <td>33.858000</td>\n",
       "      <td>1540.800000</td>\n",
       "      <td>82.080000</td>\n",
       "      <td>1540.800000</td>\n",
       "      <td>82.080000</td>\n",
       "      <td>1540.800000</td>\n",
       "      <td>82.080000</td>\n",
       "      <td>1540.800000</td>\n",
       "      <td>82.080000</td>\n",
       "      <td>1878.55</td>\n",
       "      <td>88.891</td>\n",
       "      <td>1526.40</td>\n",
       "      <td>57.6</td>\n",
       "      <td>1526.40000</td>\n",
       "      <td>57.600000</td>\n",
       "      <td>120.0</td>\n",
       "      <td>2.00</td>\n",
       "      <td>60.000000</td>\n",
       "    </tr>\n",
       "    <tr>\n",
       "      <th>1</th>\n",
       "      <td>243B4074C224</td>\n",
       "      <td>983.200008</td>\n",
       "      <td>65.546667</td>\n",
       "      <td>1253.600016</td>\n",
       "      <td>83.573334</td>\n",
       "      <td>1620.000000</td>\n",
       "      <td>108.000000</td>\n",
       "      <td>1021.200036</td>\n",
       "      <td>68.080002</td>\n",
       "      <td>1431.000000</td>\n",
       "      <td>95.400000</td>\n",
       "      <td>1440.00</td>\n",
       "      <td>96.000</td>\n",
       "      <td>1440.00</td>\n",
       "      <td>96.0</td>\n",
       "      <td>1440.00000</td>\n",
       "      <td>96.000000</td>\n",
       "      <td>65.0</td>\n",
       "      <td>1.65</td>\n",
       "      <td>39.393939</td>\n",
       "    </tr>\n",
       "    <tr>\n",
       "      <th>2</th>\n",
       "      <td>DDA2574ABCEF</td>\n",
       "      <td>1209.600024</td>\n",
       "      <td>80.640002</td>\n",
       "      <td>0.000000</td>\n",
       "      <td>0.000000</td>\n",
       "      <td>1359.710689</td>\n",
       "      <td>66.328712</td>\n",
       "      <td>1878.261696</td>\n",
       "      <td>125.217446</td>\n",
       "      <td>643.043760</td>\n",
       "      <td>42.869584</td>\n",
       "      <td>0.00</td>\n",
       "      <td>0.000</td>\n",
       "      <td>0.00</td>\n",
       "      <td>0.0</td>\n",
       "      <td>0.00000</td>\n",
       "      <td>0.000000</td>\n",
       "      <td>101.0</td>\n",
       "      <td>1.75</td>\n",
       "      <td>57.714286</td>\n",
       "    </tr>\n",
       "    <tr>\n",
       "      <th>3</th>\n",
       "      <td>B0CEDB9413F3</td>\n",
       "      <td>1261.400000</td>\n",
       "      <td>47.600000</td>\n",
       "      <td>337.080000</td>\n",
       "      <td>12.720000</td>\n",
       "      <td>36.746660</td>\n",
       "      <td>1.386666</td>\n",
       "      <td>0.000000</td>\n",
       "      <td>0.000000</td>\n",
       "      <td>0.000000</td>\n",
       "      <td>0.000000</td>\n",
       "      <td>0.00</td>\n",
       "      <td>0.000</td>\n",
       "      <td>0.00</td>\n",
       "      <td>0.0</td>\n",
       "      <td>0.00000</td>\n",
       "      <td>0.000000</td>\n",
       "      <td>85.0</td>\n",
       "      <td>1.65</td>\n",
       "      <td>51.515152</td>\n",
       "    </tr>\n",
       "    <tr>\n",
       "      <th>4</th>\n",
       "      <td>3A6D5B90097D</td>\n",
       "      <td>1114.186815</td>\n",
       "      <td>40.269895</td>\n",
       "      <td>1946.950636</td>\n",
       "      <td>96.729665</td>\n",
       "      <td>1896.193822</td>\n",
       "      <td>100.402857</td>\n",
       "      <td>1970.866173</td>\n",
       "      <td>76.641677</td>\n",
       "      <td>432.479894</td>\n",
       "      <td>16.319996</td>\n",
       "      <td>0.00</td>\n",
       "      <td>0.000</td>\n",
       "      <td>1290.02</td>\n",
       "      <td>58.3</td>\n",
       "      <td>134.97333</td>\n",
       "      <td>5.653333</td>\n",
       "      <td>70.0</td>\n",
       "      <td>1.75</td>\n",
       "      <td>40.000000</td>\n",
       "    </tr>\n",
       "  </tbody>\n",
       "</table>\n",
       "</div>"
      ],
      "text/plain": [
       "     patient_id    kcal_day0  protein_day0    kcal_day1  protein_day1  \\\n",
       "0  9A4D778B26BA   635.580000     33.858000  1540.800000     82.080000   \n",
       "1  243B4074C224   983.200008     65.546667  1253.600016     83.573334   \n",
       "2  DDA2574ABCEF  1209.600024     80.640002     0.000000      0.000000   \n",
       "3  B0CEDB9413F3  1261.400000     47.600000   337.080000     12.720000   \n",
       "4  3A6D5B90097D  1114.186815     40.269895  1946.950636     96.729665   \n",
       "\n",
       "     kcal_day2  protein_day2    kcal_day3  protein_day3    kcal_day4  \\\n",
       "0  1540.800000     82.080000  1540.800000     82.080000  1540.800000   \n",
       "1  1620.000000    108.000000  1021.200036     68.080002  1431.000000   \n",
       "2  1359.710689     66.328712  1878.261696    125.217446   643.043760   \n",
       "3    36.746660      1.386666     0.000000      0.000000     0.000000   \n",
       "4  1896.193822    100.402857  1970.866173     76.641677   432.479894   \n",
       "\n",
       "   protein_day4  kcal_day5  protein_day5  kcal_day6  protein_day6   kcal_day7  \\\n",
       "0     82.080000    1878.55        88.891    1526.40          57.6  1526.40000   \n",
       "1     95.400000    1440.00        96.000    1440.00          96.0  1440.00000   \n",
       "2     42.869584       0.00         0.000       0.00           0.0     0.00000   \n",
       "3      0.000000       0.00         0.000       0.00           0.0     0.00000   \n",
       "4     16.319996       0.00         0.000    1290.02          58.3   134.97333   \n",
       "\n",
       "   protein_day7  Weight_adm  Height        BMI  \n",
       "0     57.600000       120.0    2.00  60.000000  \n",
       "1     96.000000        65.0    1.65  39.393939  \n",
       "2      0.000000       101.0    1.75  57.714286  \n",
       "3      0.000000        85.0    1.65  51.515152  \n",
       "4      5.653333        70.0    1.75  40.000000  "
      ]
     },
     "execution_count": 59,
     "metadata": {},
     "output_type": "execute_result"
    }
   ],
   "source": [
    "data_merged.head()"
   ]
  },
  {
   "cell_type": "code",
   "execution_count": null,
   "id": "0d85e143",
   "metadata": {},
   "outputs": [],
   "source": []
  }
 ],
 "metadata": {
  "kernelspec": {
   "display_name": "Python 3 (ipykernel)",
   "language": "python",
   "name": "python3"
  },
  "language_info": {
   "codemirror_mode": {
    "name": "ipython",
    "version": 3
   },
   "file_extension": ".py",
   "mimetype": "text/x-python",
   "name": "python",
   "nbconvert_exporter": "python",
   "pygments_lexer": "ipython3",
   "version": "3.9.7"
  }
 },
 "nbformat": 4,
 "nbformat_minor": 5
}
